{
 "cells": [
  {
   "cell_type": "code",
   "execution_count": 1,
   "id": "507e1749",
   "metadata": {},
   "outputs": [
    {
     "name": "stdout",
     "output_type": "stream",
     "text": [
      "WARNING:tensorflow:From C:\\Users\\ADMIN\\AppData\\Roaming\\Python\\Python311\\site-packages\\keras\\src\\losses.py:2976: The name tf.losses.sparse_softmax_cross_entropy is deprecated. Please use tf.compat.v1.losses.sparse_softmax_cross_entropy instead.\n",
      "\n"
     ]
    }
   ],
   "source": [
    "import numpy as np\n",
    "import pandas as pd\n",
    "import matplotlib.pyplot as plt\n",
    "import os\n",
    "import sys\n",
    "import tensorflow as tf\n",
    "import keras.models\n",
    "#from keras.models import Sequential\n",
    "from keras.layers import Conv2D , MaxPool2D ,Flatten , Dense, Dropout\n",
    "#from keras.utils import to_categorical\n",
    "from tensorflow.keras.utils import to_categorical\n",
    "from PIL import Image\n",
    "from keras.models import Model, Sequential\n",
    "from keras.layers import GlobalAveragePooling2D , BatchNormalization;\n",
    "#from models import custom_convnet\n",
    "from keras.layers import Embedding\n",
    "from tensorflow.keras.layers import LSTM\n",
    "from sklearn.metrics import confusion_matrix\n",
    "from sklearn.metrics import classification_report"
   ]
  },
  {
   "cell_type": "code",
   "execution_count": 2,
   "id": "425b9f97",
   "metadata": {},
   "outputs": [],
   "source": [
    "import warnings \n",
    "warnings.filterwarnings('ignore')"
   ]
  },
  {
   "cell_type": "markdown",
   "id": "1006c794",
   "metadata": {},
   "source": [
    "## Fake_Jobs_Posting"
   ]
  },
  {
   "cell_type": "code",
   "execution_count": 3,
   "id": "d892c98e",
   "metadata": {},
   "outputs": [],
   "source": [
    "job=pd.read_csv(r\"C:\\Users\\ADMIN\\OneDrive\\Documents\\Jupyter_Data\\fake_job_postings.csv\")"
   ]
  },
  {
   "cell_type": "code",
   "execution_count": 4,
   "id": "7605a8be",
   "metadata": {},
   "outputs": [
    {
     "data": {
      "text/html": [
       "<div>\n",
       "<style scoped>\n",
       "    .dataframe tbody tr th:only-of-type {\n",
       "        vertical-align: middle;\n",
       "    }\n",
       "\n",
       "    .dataframe tbody tr th {\n",
       "        vertical-align: top;\n",
       "    }\n",
       "\n",
       "    .dataframe thead th {\n",
       "        text-align: right;\n",
       "    }\n",
       "</style>\n",
       "<table border=\"1\" class=\"dataframe\">\n",
       "  <thead>\n",
       "    <tr style=\"text-align: right;\">\n",
       "      <th></th>\n",
       "      <th>job_id</th>\n",
       "      <th>title</th>\n",
       "      <th>location</th>\n",
       "      <th>department</th>\n",
       "      <th>salary_range</th>\n",
       "      <th>company_profile</th>\n",
       "      <th>description</th>\n",
       "      <th>requirements</th>\n",
       "      <th>benefits</th>\n",
       "      <th>telecommuting</th>\n",
       "      <th>has_company_logo</th>\n",
       "      <th>has_questions</th>\n",
       "      <th>employment_type</th>\n",
       "      <th>required_experience</th>\n",
       "      <th>required_education</th>\n",
       "      <th>industry</th>\n",
       "      <th>function</th>\n",
       "      <th>fraudulent</th>\n",
       "    </tr>\n",
       "  </thead>\n",
       "  <tbody>\n",
       "    <tr>\n",
       "      <th>0</th>\n",
       "      <td>1</td>\n",
       "      <td>Marketing Intern</td>\n",
       "      <td>US, NY, New York</td>\n",
       "      <td>Marketing</td>\n",
       "      <td>NaN</td>\n",
       "      <td>We're Food52, and we've created a groundbreaki...</td>\n",
       "      <td>Food52, a fast-growing, James Beard Award-winn...</td>\n",
       "      <td>Experience with content management systems a m...</td>\n",
       "      <td>NaN</td>\n",
       "      <td>0</td>\n",
       "      <td>1</td>\n",
       "      <td>0</td>\n",
       "      <td>Other</td>\n",
       "      <td>Internship</td>\n",
       "      <td>NaN</td>\n",
       "      <td>NaN</td>\n",
       "      <td>Marketing</td>\n",
       "      <td>0</td>\n",
       "    </tr>\n",
       "    <tr>\n",
       "      <th>1</th>\n",
       "      <td>2</td>\n",
       "      <td>Customer Service - Cloud Video Production</td>\n",
       "      <td>NZ, , Auckland</td>\n",
       "      <td>Success</td>\n",
       "      <td>NaN</td>\n",
       "      <td>90 Seconds, the worlds Cloud Video Production ...</td>\n",
       "      <td>Organised - Focused - Vibrant - Awesome!Do you...</td>\n",
       "      <td>What we expect from you:Your key responsibilit...</td>\n",
       "      <td>What you will get from usThrough being part of...</td>\n",
       "      <td>0</td>\n",
       "      <td>1</td>\n",
       "      <td>0</td>\n",
       "      <td>Full-time</td>\n",
       "      <td>Not Applicable</td>\n",
       "      <td>NaN</td>\n",
       "      <td>Marketing and Advertising</td>\n",
       "      <td>Customer Service</td>\n",
       "      <td>0</td>\n",
       "    </tr>\n",
       "    <tr>\n",
       "      <th>2</th>\n",
       "      <td>3</td>\n",
       "      <td>Commissioning Machinery Assistant (CMA)</td>\n",
       "      <td>US, IA, Wever</td>\n",
       "      <td>NaN</td>\n",
       "      <td>NaN</td>\n",
       "      <td>Valor Services provides Workforce Solutions th...</td>\n",
       "      <td>Our client, located in Houston, is actively se...</td>\n",
       "      <td>Implement pre-commissioning and commissioning ...</td>\n",
       "      <td>NaN</td>\n",
       "      <td>0</td>\n",
       "      <td>1</td>\n",
       "      <td>0</td>\n",
       "      <td>NaN</td>\n",
       "      <td>NaN</td>\n",
       "      <td>NaN</td>\n",
       "      <td>NaN</td>\n",
       "      <td>NaN</td>\n",
       "      <td>0</td>\n",
       "    </tr>\n",
       "    <tr>\n",
       "      <th>3</th>\n",
       "      <td>4</td>\n",
       "      <td>Account Executive - Washington DC</td>\n",
       "      <td>US, DC, Washington</td>\n",
       "      <td>Sales</td>\n",
       "      <td>NaN</td>\n",
       "      <td>Our passion for improving quality of life thro...</td>\n",
       "      <td>THE COMPANY: ESRI – Environmental Systems Rese...</td>\n",
       "      <td>EDUCATION: Bachelor’s or Master’s in GIS, busi...</td>\n",
       "      <td>Our culture is anything but corporate—we have ...</td>\n",
       "      <td>0</td>\n",
       "      <td>1</td>\n",
       "      <td>0</td>\n",
       "      <td>Full-time</td>\n",
       "      <td>Mid-Senior level</td>\n",
       "      <td>Bachelor's Degree</td>\n",
       "      <td>Computer Software</td>\n",
       "      <td>Sales</td>\n",
       "      <td>0</td>\n",
       "    </tr>\n",
       "    <tr>\n",
       "      <th>4</th>\n",
       "      <td>5</td>\n",
       "      <td>Bill Review Manager</td>\n",
       "      <td>US, FL, Fort Worth</td>\n",
       "      <td>NaN</td>\n",
       "      <td>NaN</td>\n",
       "      <td>SpotSource Solutions LLC is a Global Human Cap...</td>\n",
       "      <td>JOB TITLE: Itemization Review ManagerLOCATION:...</td>\n",
       "      <td>QUALIFICATIONS:RN license in the State of Texa...</td>\n",
       "      <td>Full Benefits Offered</td>\n",
       "      <td>0</td>\n",
       "      <td>1</td>\n",
       "      <td>1</td>\n",
       "      <td>Full-time</td>\n",
       "      <td>Mid-Senior level</td>\n",
       "      <td>Bachelor's Degree</td>\n",
       "      <td>Hospital &amp; Health Care</td>\n",
       "      <td>Health Care Provider</td>\n",
       "      <td>0</td>\n",
       "    </tr>\n",
       "  </tbody>\n",
       "</table>\n",
       "</div>"
      ],
      "text/plain": [
       "   job_id                                      title            location  \\\n",
       "0       1                           Marketing Intern    US, NY, New York   \n",
       "1       2  Customer Service - Cloud Video Production      NZ, , Auckland   \n",
       "2       3    Commissioning Machinery Assistant (CMA)       US, IA, Wever   \n",
       "3       4          Account Executive - Washington DC  US, DC, Washington   \n",
       "4       5                        Bill Review Manager  US, FL, Fort Worth   \n",
       "\n",
       "  department salary_range                                    company_profile  \\\n",
       "0  Marketing          NaN  We're Food52, and we've created a groundbreaki...   \n",
       "1    Success          NaN  90 Seconds, the worlds Cloud Video Production ...   \n",
       "2        NaN          NaN  Valor Services provides Workforce Solutions th...   \n",
       "3      Sales          NaN  Our passion for improving quality of life thro...   \n",
       "4        NaN          NaN  SpotSource Solutions LLC is a Global Human Cap...   \n",
       "\n",
       "                                         description  \\\n",
       "0  Food52, a fast-growing, James Beard Award-winn...   \n",
       "1  Organised - Focused - Vibrant - Awesome!Do you...   \n",
       "2  Our client, located in Houston, is actively se...   \n",
       "3  THE COMPANY: ESRI – Environmental Systems Rese...   \n",
       "4  JOB TITLE: Itemization Review ManagerLOCATION:...   \n",
       "\n",
       "                                        requirements  \\\n",
       "0  Experience with content management systems a m...   \n",
       "1  What we expect from you:Your key responsibilit...   \n",
       "2  Implement pre-commissioning and commissioning ...   \n",
       "3  EDUCATION: Bachelor’s or Master’s in GIS, busi...   \n",
       "4  QUALIFICATIONS:RN license in the State of Texa...   \n",
       "\n",
       "                                            benefits  telecommuting  \\\n",
       "0                                                NaN              0   \n",
       "1  What you will get from usThrough being part of...              0   \n",
       "2                                                NaN              0   \n",
       "3  Our culture is anything but corporate—we have ...              0   \n",
       "4                              Full Benefits Offered              0   \n",
       "\n",
       "   has_company_logo  has_questions employment_type required_experience  \\\n",
       "0                 1              0           Other          Internship   \n",
       "1                 1              0       Full-time      Not Applicable   \n",
       "2                 1              0             NaN                 NaN   \n",
       "3                 1              0       Full-time    Mid-Senior level   \n",
       "4                 1              1       Full-time    Mid-Senior level   \n",
       "\n",
       "  required_education                   industry              function  \\\n",
       "0                NaN                        NaN             Marketing   \n",
       "1                NaN  Marketing and Advertising      Customer Service   \n",
       "2                NaN                        NaN                   NaN   \n",
       "3  Bachelor's Degree          Computer Software                 Sales   \n",
       "4  Bachelor's Degree     Hospital & Health Care  Health Care Provider   \n",
       "\n",
       "   fraudulent  \n",
       "0           0  \n",
       "1           0  \n",
       "2           0  \n",
       "3           0  \n",
       "4           0  "
      ]
     },
     "execution_count": 4,
     "metadata": {},
     "output_type": "execute_result"
    }
   ],
   "source": [
    "job.head()"
   ]
  },
  {
   "cell_type": "code",
   "execution_count": 5,
   "id": "3db1bc7a",
   "metadata": {},
   "outputs": [
    {
     "data": {
      "text/plain": [
       "location                 346\n",
       "department             11547\n",
       "salary_range           15012\n",
       "company_profile         3308\n",
       "description                1\n",
       "requirements            2696\n",
       "benefits                7212\n",
       "employment_type         3471\n",
       "required_experience     7050\n",
       "required_education      8105\n",
       "industry                4903\n",
       "function                6455\n",
       "dtype: int64"
      ]
     },
     "execution_count": 5,
     "metadata": {},
     "output_type": "execute_result"
    }
   ],
   "source": [
    "job.isnull().sum()[job.isnull().sum()>0]"
   ]
  },
  {
   "cell_type": "code",
   "execution_count": 6,
   "id": "2987516d",
   "metadata": {},
   "outputs": [
    {
     "data": {
      "text/plain": [
       "fraudulent\n",
       "0    17014\n",
       "1      866\n",
       "Name: count, dtype: int64"
      ]
     },
     "execution_count": 6,
     "metadata": {},
     "output_type": "execute_result"
    }
   ],
   "source": [
    "job.fraudulent.value_counts()"
   ]
  },
  {
   "cell_type": "code",
   "execution_count": 8,
   "id": "d4e0b00a",
   "metadata": {},
   "outputs": [],
   "source": [
    "job['x'] = job['salary_range'].apply(str)+' '+job['company_profile'].apply(str)+' '+job['has_company_logo'].apply(str)+' '+job['location'].apply(str)+' '+job['benefits'].apply(str)"
   ]
  },
  {
   "cell_type": "code",
   "execution_count": 9,
   "id": "abf80a7f",
   "metadata": {},
   "outputs": [],
   "source": [
    "job=job.loc[:,['x','fraudulent']]"
   ]
  },
  {
   "cell_type": "code",
   "execution_count": 10,
   "id": "388328a2",
   "metadata": {},
   "outputs": [
    {
     "data": {
      "text/html": [
       "<div>\n",
       "<style scoped>\n",
       "    .dataframe tbody tr th:only-of-type {\n",
       "        vertical-align: middle;\n",
       "    }\n",
       "\n",
       "    .dataframe tbody tr th {\n",
       "        vertical-align: top;\n",
       "    }\n",
       "\n",
       "    .dataframe thead th {\n",
       "        text-align: right;\n",
       "    }\n",
       "</style>\n",
       "<table border=\"1\" class=\"dataframe\">\n",
       "  <thead>\n",
       "    <tr style=\"text-align: right;\">\n",
       "      <th></th>\n",
       "      <th>x</th>\n",
       "      <th>fraudulent</th>\n",
       "    </tr>\n",
       "  </thead>\n",
       "  <tbody>\n",
       "    <tr>\n",
       "      <th>0</th>\n",
       "      <td>nan We're Food52, and we've created a groundbr...</td>\n",
       "      <td>0</td>\n",
       "    </tr>\n",
       "    <tr>\n",
       "      <th>1</th>\n",
       "      <td>nan 90 Seconds, the worlds Cloud Video Product...</td>\n",
       "      <td>0</td>\n",
       "    </tr>\n",
       "    <tr>\n",
       "      <th>2</th>\n",
       "      <td>nan Valor Services provides Workforce Solution...</td>\n",
       "      <td>0</td>\n",
       "    </tr>\n",
       "    <tr>\n",
       "      <th>3</th>\n",
       "      <td>nan Our passion for improving quality of life ...</td>\n",
       "      <td>0</td>\n",
       "    </tr>\n",
       "    <tr>\n",
       "      <th>4</th>\n",
       "      <td>nan SpotSource Solutions LLC is a Global Human...</td>\n",
       "      <td>0</td>\n",
       "    </tr>\n",
       "  </tbody>\n",
       "</table>\n",
       "</div>"
      ],
      "text/plain": [
       "                                                   x  fraudulent\n",
       "0  nan We're Food52, and we've created a groundbr...           0\n",
       "1  nan 90 Seconds, the worlds Cloud Video Product...           0\n",
       "2  nan Valor Services provides Workforce Solution...           0\n",
       "3  nan Our passion for improving quality of life ...           0\n",
       "4  nan SpotSource Solutions LLC is a Global Human...           0"
      ]
     },
     "execution_count": 10,
     "metadata": {},
     "output_type": "execute_result"
    }
   ],
   "source": [
    "job.head()"
   ]
  },
  {
   "cell_type": "code",
   "execution_count": 11,
   "id": "3ed3d7cd",
   "metadata": {},
   "outputs": [],
   "source": [
    "from sklearn.model_selection import train_test_split"
   ]
  },
  {
   "cell_type": "code",
   "execution_count": 12,
   "id": "738ee01f",
   "metadata": {},
   "outputs": [],
   "source": [
    "# x_train,x_test,y_train,y_test=train_test_split(job['X'],job['fraudulent'],test_size=0.2)"
   ]
  },
  {
   "cell_type": "code",
   "execution_count": 13,
   "id": "11165ed2",
   "metadata": {},
   "outputs": [],
   "source": [
    "train,test=train_test_split(job)"
   ]
  },
  {
   "cell_type": "code",
   "execution_count": 15,
   "id": "321f251c",
   "metadata": {},
   "outputs": [],
   "source": [
    "df1=train[train.fraudulent==1]\n",
    "train=pd.concat([train,df1,df1,df1]) #Oversampling"
   ]
  },
  {
   "cell_type": "code",
   "execution_count": 16,
   "id": "d5be3e77",
   "metadata": {},
   "outputs": [],
   "source": [
    "x_train = train.loc[:, \"x\" ]\n",
    "x_test = test.loc[:, \"x\" ]\n",
    "y_train = train.loc[:, \"fraudulent\" ]\n",
    "y_test = test.loc[:, \"fraudulent\" ]"
   ]
  },
  {
   "cell_type": "code",
   "execution_count": 17,
   "id": "48c82d7d",
   "metadata": {},
   "outputs": [],
   "source": [
    "y_train=to_categorical(y_train)\n",
    "y_test=to_categorical(y_test)"
   ]
  },
  {
   "cell_type": "code",
   "execution_count": 18,
   "id": "92435f60",
   "metadata": {},
   "outputs": [],
   "source": [
    "max_num_words=10000 \n",
    "seq_len=50  \n",
    "embedding_size=100"
   ]
  },
  {
   "cell_type": "code",
   "execution_count": 19,
   "id": "fd3dd96e",
   "metadata": {},
   "outputs": [],
   "source": [
    "from keras.preprocessing.text import Tokenizer # to assign  number to words\n",
    "from keras.preprocessing.sequence import pad_sequences # like padding in cnn add zeroes to make length of\n",
    "# data uniform in starting \n",
    "tokenizer = Tokenizer(num_words=max_num_words)\n",
    "tokenizer.fit_on_texts(job['x']) \n",
    "x_train = tokenizer.texts_to_sequences(x_train)\n",
    "x_test = tokenizer.texts_to_sequences(x_test)\n"
   ]
  },
  {
   "cell_type": "code",
   "execution_count": 20,
   "id": "d50ceec2",
   "metadata": {},
   "outputs": [
    {
     "name": "stdout",
     "output_type": "stream",
     "text": [
      "WARNING:tensorflow:From C:\\Users\\ADMIN\\AppData\\Roaming\\Python\\Python311\\site-packages\\keras\\src\\backend.py:873: The name tf.get_default_graph is deprecated. Please use tf.compat.v1.get_default_graph instead.\n",
      "\n"
     ]
    }
   ],
   "source": [
    "from tensorflow.keras.models import Sequential\n",
    "from tensorflow.keras.layers import Embedding\n",
    "from tensorflow.keras.preprocessing.sequence import pad_sequences\n",
    "\n",
    "x_train=pad_sequences(x_train,maxlen=seq_len)\n",
    "x_test=pad_sequences(x_test,maxlen=seq_len)\n",
    "model=Sequential()\n",
    "model.add(Embedding(input_dim=max_num_words,\n",
    "         input_length=seq_len,\n",
    "         output_dim=embedding_size))"
   ]
  },
  {
   "cell_type": "code",
   "execution_count": 21,
   "id": "a68f9418",
   "metadata": {},
   "outputs": [
    {
     "name": "stdout",
     "output_type": "stream",
     "text": [
      "WARNING:tensorflow:From C:\\Users\\ADMIN\\AppData\\Roaming\\Python\\Python311\\site-packages\\keras\\src\\optimizers\\__init__.py:309: The name tf.train.Optimizer is deprecated. Please use tf.compat.v1.train.Optimizer instead.\n",
      "\n"
     ]
    }
   ],
   "source": [
    "from tensorflow.keras.layers import Embedding, LSTM, Dense\n",
    "model.add(LSTM(32))\n",
    "model.add(Dense(2,activation='softmax'))\n",
    "from tensorflow.keras.optimizers import Adam\n",
    "adam=Adam(learning_rate=0.001)\n",
    "model.compile(optimizer='adam',loss='categorical_crossentropy',metrics=['accuracy'])"
   ]
  },
  {
   "cell_type": "code",
   "execution_count": 22,
   "id": "22bcca73",
   "metadata": {
    "scrolled": false
   },
   "outputs": [
    {
     "name": "stdout",
     "output_type": "stream",
     "text": [
      "Epoch 1/10\n",
      "WARNING:tensorflow:From C:\\Users\\ADMIN\\AppData\\Roaming\\Python\\Python311\\site-packages\\keras\\src\\utils\\tf_utils.py:492: The name tf.ragged.RaggedTensorValue is deprecated. Please use tf.compat.v1.ragged.RaggedTensorValue instead.\n",
      "\n",
      "WARNING:tensorflow:From C:\\Users\\ADMIN\\AppData\\Roaming\\Python\\Python311\\site-packages\\keras\\src\\engine\\base_layer_utils.py:384: The name tf.executing_eagerly_outside_functions is deprecated. Please use tf.compat.v1.executing_eagerly_outside_functions instead.\n",
      "\n",
      "582/582 [==============================] - 19s 28ms/step - loss: 0.1708 - accuracy: 0.9264 - val_loss: 0.1883 - val_accuracy: 0.9130\n",
      "Epoch 2/10\n",
      "582/582 [==============================] - 16s 27ms/step - loss: 0.0662 - accuracy: 0.9740 - val_loss: 0.0536 - val_accuracy: 0.9936\n",
      "Epoch 3/10\n",
      "582/582 [==============================] - 16s 27ms/step - loss: 0.0603 - accuracy: 0.9772 - val_loss: 0.0836 - val_accuracy: 0.9764\n",
      "Epoch 4/10\n",
      "582/582 [==============================] - 16s 27ms/step - loss: 0.0539 - accuracy: 0.9796 - val_loss: 0.0687 - val_accuracy: 0.9858\n",
      "Epoch 5/10\n",
      "582/582 [==============================] - 16s 28ms/step - loss: 0.0471 - accuracy: 0.9819 - val_loss: 0.0704 - val_accuracy: 0.9779\n",
      "Epoch 6/10\n",
      "582/582 [==============================] - 16s 27ms/step - loss: 0.0443 - accuracy: 0.9825 - val_loss: 0.0445 - val_accuracy: 0.9953\n",
      "Epoch 7/10\n",
      "582/582 [==============================] - 16s 28ms/step - loss: 0.0484 - accuracy: 0.9814 - val_loss: 0.0366 - val_accuracy: 0.9968\n",
      "Epoch 8/10\n",
      "582/582 [==============================] - 16s 28ms/step - loss: 0.0423 - accuracy: 0.9835 - val_loss: 0.0488 - val_accuracy: 0.9888\n",
      "Epoch 9/10\n",
      "582/582 [==============================] - 16s 28ms/step - loss: 0.0408 - accuracy: 0.9837 - val_loss: 0.0740 - val_accuracy: 0.9826\n",
      "Epoch 10/10\n",
      "582/582 [==============================] - 16s 28ms/step - loss: 0.0425 - accuracy: 0.9833 - val_loss: 0.0364 - val_accuracy: 0.9953\n"
     ]
    },
    {
     "data": {
      "text/plain": [
       "<keras.src.callbacks.History at 0x2bd4d923790>"
      ]
     },
     "execution_count": 22,
     "metadata": {},
     "output_type": "execute_result"
    }
   ],
   "source": [
    "model.fit(x_train,y_train,epochs=10,batch_size=32,validation_split=0.2)"
   ]
  },
  {
   "cell_type": "code",
   "execution_count": 391,
   "id": "9cd4a2c6",
   "metadata": {},
   "outputs": [],
   "source": [
    "# pred = (model.predict(x_test) > 0.4).astype(int)"
   ]
  },
  {
   "cell_type": "code",
   "execution_count": 23,
   "id": "6266004e",
   "metadata": {},
   "outputs": [
    {
     "name": "stdout",
     "output_type": "stream",
     "text": [
      "140/140 [==============================] - 1s 5ms/step\n"
     ]
    },
    {
     "data": {
      "text/plain": [
       "array([[9.9999785e-01, 2.1382350e-06],\n",
       "       [9.9999940e-01, 5.9906500e-07],\n",
       "       [9.9999821e-01, 1.8132318e-06],\n",
       "       ...,\n",
       "       [9.9999690e-01, 3.0856017e-06],\n",
       "       [1.6595942e-01, 8.3404052e-01],\n",
       "       [9.9999940e-01, 5.6136611e-07]], dtype=float32)"
      ]
     },
     "execution_count": 23,
     "metadata": {},
     "output_type": "execute_result"
    }
   ],
   "source": [
    "pred=model.predict(x_test)\n",
    "pred"
   ]
  },
  {
   "cell_type": "code",
   "execution_count": 24,
   "id": "fcf967f2",
   "metadata": {},
   "outputs": [],
   "source": [
    "pred_classes=pred.argmax(axis=1)"
   ]
  },
  {
   "cell_type": "code",
   "execution_count": 25,
   "id": "ea3c3fd6",
   "metadata": {},
   "outputs": [],
   "source": [
    "y_test=y_test.argmax(axis=1)"
   ]
  },
  {
   "cell_type": "code",
   "execution_count": 26,
   "id": "81b2e19b",
   "metadata": {},
   "outputs": [
    {
     "data": {
      "text/plain": [
       "array([[4158,  104],\n",
       "       [  61,  147]], dtype=int64)"
      ]
     },
     "execution_count": 26,
     "metadata": {},
     "output_type": "execute_result"
    }
   ],
   "source": [
    "confusion_matrix(y_test,pred_classes)"
   ]
  },
  {
   "cell_type": "code",
   "execution_count": 30,
   "id": "06db5133",
   "metadata": {},
   "outputs": [],
   "source": [
    "from sklearn.metrics import accuracy_score , classification_report"
   ]
  },
  {
   "cell_type": "code",
   "execution_count": 31,
   "id": "3cca90bc",
   "metadata": {},
   "outputs": [
    {
     "data": {
      "text/plain": [
       "0.9630872483221476"
      ]
     },
     "execution_count": 31,
     "metadata": {},
     "output_type": "execute_result"
    }
   ],
   "source": [
    "accuracy_score(y_test,pred_classes)"
   ]
  },
  {
   "cell_type": "code",
   "execution_count": 29,
   "id": "4ac17196",
   "metadata": {},
   "outputs": [
    {
     "name": "stdout",
     "output_type": "stream",
     "text": [
      "              precision    recall  f1-score   support\n",
      "\n",
      "           0       0.99      0.98      0.98      4262\n",
      "           1       0.59      0.71      0.64       208\n",
      "\n",
      "    accuracy                           0.96      4470\n",
      "   macro avg       0.79      0.84      0.81      4470\n",
      "weighted avg       0.97      0.96      0.96      4470\n",
      "\n"
     ]
    }
   ],
   "source": [
    "print(classification_report(y_test,pred_classes))"
   ]
  },
  {
   "cell_type": "markdown",
   "id": "757356db",
   "metadata": {},
   "source": [
    "### Fake jobs using bidirectional LSTM"
   ]
  },
  {
   "cell_type": "code",
   "execution_count": 37,
   "id": "392f45c3",
   "metadata": {},
   "outputs": [],
   "source": [
    "job=pd.read_csv(r\"C:\\Users\\ADMIN\\OneDrive\\Documents\\Jupyter_Data\\fake_job_postings.csv\")"
   ]
  },
  {
   "cell_type": "code",
   "execution_count": 38,
   "id": "1eb0040f",
   "metadata": {},
   "outputs": [],
   "source": [
    "job['x'] = job['salary_range'].apply(str)+' '+job['company_profile'].apply(str)+' '+job['has_company_logo'].apply(str)+' '+job['location'].apply(str)+' '+job['benefits'].apply(str)"
   ]
  },
  {
   "cell_type": "code",
   "execution_count": 39,
   "id": "62ae531a",
   "metadata": {},
   "outputs": [],
   "source": [
    "job=job.loc[:,['x','fraudulent']]"
   ]
  },
  {
   "cell_type": "code",
   "execution_count": 40,
   "id": "66a3a2d1",
   "metadata": {},
   "outputs": [],
   "source": [
    "train,test=train_test_split(job)"
   ]
  },
  {
   "cell_type": "code",
   "execution_count": 41,
   "id": "207bb13a",
   "metadata": {},
   "outputs": [],
   "source": [
    "df1=train[train.fraudulent==1]\n",
    "train=pd.concat([train,df1,df1,df1])"
   ]
  },
  {
   "cell_type": "code",
   "execution_count": 42,
   "id": "9e498745",
   "metadata": {},
   "outputs": [],
   "source": [
    "x_train = train.loc[:, \"x\" ]\n",
    "x_test = test.loc[:, \"x\" ]\n",
    "y_train = train.loc[:, \"fraudulent\" ]\n",
    "y_test = test.loc[:, \"fraudulent\" ]"
   ]
  },
  {
   "cell_type": "code",
   "execution_count": 43,
   "id": "95255b32",
   "metadata": {},
   "outputs": [],
   "source": [
    "# x_train,x_test,y_train,y_test=train_test_split(job['X'],job['fraudulent'],test_size=0.2)"
   ]
  },
  {
   "cell_type": "code",
   "execution_count": 44,
   "id": "ba3e9fa8",
   "metadata": {},
   "outputs": [],
   "source": [
    "y_train=to_categorical(y_train)\n",
    "y_test=to_categorical(y_test)"
   ]
  },
  {
   "cell_type": "code",
   "execution_count": 45,
   "id": "c60e073e",
   "metadata": {},
   "outputs": [],
   "source": [
    "max_num_words=10000 \n",
    "seq_len=50  \n",
    "embedding_size=100"
   ]
  },
  {
   "cell_type": "code",
   "execution_count": 46,
   "id": "f9775671",
   "metadata": {},
   "outputs": [],
   "source": [
    "from keras.preprocessing.text import Tokenizer # to assign  number to words\n",
    "from keras.preprocessing.sequence import pad_sequences # like padding in cnn add zeroes to make length of\n",
    "# data uniform in starting \n",
    "tokenizer = Tokenizer(num_words=max_num_words)\n",
    "tokenizer.fit_on_texts(job['x']) \n",
    "x_train = tokenizer.texts_to_sequences(x_train)\n",
    "x_test = tokenizer.texts_to_sequences(x_test)\n"
   ]
  },
  {
   "cell_type": "code",
   "execution_count": 47,
   "id": "c714bc2c",
   "metadata": {},
   "outputs": [],
   "source": [
    "from tensorflow.keras.models import Sequential\n",
    "from tensorflow.keras.layers import Embedding\n",
    "from tensorflow.keras.preprocessing.sequence import pad_sequences\n",
    "\n",
    "x_train=pad_sequences(x_train,maxlen=seq_len)\n",
    "x_test=pad_sequences(x_test,maxlen=seq_len)\n",
    "model=Sequential()\n",
    "model.add(Embedding(input_dim=max_num_words,\n",
    "         input_length=seq_len,\n",
    "         output_dim=embedding_size))"
   ]
  },
  {
   "cell_type": "code",
   "execution_count": 48,
   "id": "ec02cbab",
   "metadata": {},
   "outputs": [],
   "source": [
    "from keras.layers import Bidirectional\n"
   ]
  },
  {
   "cell_type": "code",
   "execution_count": 49,
   "id": "310e83b6",
   "metadata": {},
   "outputs": [],
   "source": [
    "from tensorflow.keras.layers import Embedding, LSTM, Dense\n",
    "model.add(Bidirectional(LSTM(32)))\n",
    "model.add(Dense(2,activation='softmax'))\n",
    "from tensorflow.keras.optimizers import Adam\n",
    "adam=Adam(learning_rate=0.001)\n",
    "model.compile(optimizer='adam',loss='categorical_crossentropy',metrics=['accuracy'])"
   ]
  },
  {
   "cell_type": "code",
   "execution_count": 50,
   "id": "155a2486",
   "metadata": {},
   "outputs": [
    {
     "name": "stdout",
     "output_type": "stream",
     "text": [
      "Epoch 1/8\n",
      "384/384 [==============================] - 17s 36ms/step - loss: 0.1385 - accuracy: 0.9611 - val_loss: 0.6392 - val_accuracy: 0.6915\n",
      "Epoch 2/8\n",
      "384/384 [==============================] - 13s 33ms/step - loss: 0.0578 - accuracy: 0.9783 - val_loss: 0.3061 - val_accuracy: 0.8655\n",
      "Epoch 3/8\n",
      "384/384 [==============================] - 13s 34ms/step - loss: 0.0395 - accuracy: 0.9835 - val_loss: 0.3960 - val_accuracy: 0.8189\n",
      "Epoch 4/8\n",
      "384/384 [==============================] - 13s 34ms/step - loss: 0.0318 - accuracy: 0.9870 - val_loss: 0.2568 - val_accuracy: 0.8879\n",
      "Epoch 5/8\n",
      "384/384 [==============================] - 13s 35ms/step - loss: 0.0289 - accuracy: 0.9865 - val_loss: 0.2224 - val_accuracy: 0.9176\n",
      "Epoch 6/8\n",
      "384/384 [==============================] - 14s 35ms/step - loss: 0.0262 - accuracy: 0.9879 - val_loss: 0.3028 - val_accuracy: 0.8883\n",
      "Epoch 7/8\n",
      "384/384 [==============================] - 14s 36ms/step - loss: 0.0266 - accuracy: 0.9884 - val_loss: 0.2321 - val_accuracy: 0.9068\n",
      "Epoch 8/8\n",
      "384/384 [==============================] - 14s 37ms/step - loss: 0.0299 - accuracy: 0.9874 - val_loss: 0.2143 - val_accuracy: 0.9336\n"
     ]
    },
    {
     "data": {
      "text/plain": [
       "<keras.src.callbacks.History at 0x2bd58864690>"
      ]
     },
     "execution_count": 50,
     "metadata": {},
     "output_type": "execute_result"
    }
   ],
   "source": [
    "model.fit(x_train,y_train,epochs=8,batch_size=32,validation_split=0.2)"
   ]
  },
  {
   "cell_type": "code",
   "execution_count": 51,
   "id": "390b3d1d",
   "metadata": {},
   "outputs": [
    {
     "name": "stdout",
     "output_type": "stream",
     "text": [
      "140/140 [==============================] - 2s 6ms/step\n"
     ]
    },
    {
     "data": {
      "text/plain": [
       "array([[9.9997747e-01, 2.2572813e-05],\n",
       "       [9.9995244e-01, 4.7557947e-05],\n",
       "       [9.9926633e-01, 7.3363195e-04],\n",
       "       ...,\n",
       "       [9.9947721e-01, 5.2284618e-04],\n",
       "       [9.9996233e-01, 3.7723479e-05],\n",
       "       [9.9999642e-01, 3.6075355e-06]], dtype=float32)"
      ]
     },
     "execution_count": 51,
     "metadata": {},
     "output_type": "execute_result"
    }
   ],
   "source": [
    "pred=model.predict(x_test)\n",
    "pred"
   ]
  },
  {
   "cell_type": "code",
   "execution_count": 52,
   "id": "1b0b5af7",
   "metadata": {},
   "outputs": [],
   "source": [
    "pred_classes=pred.argmax(axis=1)"
   ]
  },
  {
   "cell_type": "code",
   "execution_count": 53,
   "id": "d93bc7d8",
   "metadata": {},
   "outputs": [],
   "source": [
    "y_test=y_test.argmax(axis=1)"
   ]
  },
  {
   "cell_type": "code",
   "execution_count": 54,
   "id": "6dcb6803",
   "metadata": {},
   "outputs": [
    {
     "data": {
      "text/plain": [
       "array([[4171,   79],\n",
       "       [  67,  153]], dtype=int64)"
      ]
     },
     "execution_count": 54,
     "metadata": {},
     "output_type": "execute_result"
    }
   ],
   "source": [
    "confusion_matrix(y_test,pred_classes)"
   ]
  },
  {
   "cell_type": "code",
   "execution_count": 55,
   "id": "45707914",
   "metadata": {},
   "outputs": [
    {
     "name": "stdout",
     "output_type": "stream",
     "text": [
      "              precision    recall  f1-score   support\n",
      "\n",
      "           0       0.98      0.98      0.98      4250\n",
      "           1       0.66      0.70      0.68       220\n",
      "\n",
      "    accuracy                           0.97      4470\n",
      "   macro avg       0.82      0.84      0.83      4470\n",
      "weighted avg       0.97      0.97      0.97      4470\n",
      "\n"
     ]
    }
   ],
   "source": [
    "print(classification_report(y_test,pred_classes))"
   ]
  },
  {
   "cell_type": "code",
   "execution_count": null,
   "id": "4b4935ba",
   "metadata": {},
   "outputs": [],
   "source": []
  }
 ],
 "metadata": {
  "kernelspec": {
   "display_name": "Python 3 (ipykernel)",
   "language": "python",
   "name": "python3"
  },
  "language_info": {
   "codemirror_mode": {
    "name": "ipython",
    "version": 3
   },
   "file_extension": ".py",
   "mimetype": "text/x-python",
   "name": "python",
   "nbconvert_exporter": "python",
   "pygments_lexer": "ipython3",
   "version": "3.11.5"
  }
 },
 "nbformat": 4,
 "nbformat_minor": 5
}
